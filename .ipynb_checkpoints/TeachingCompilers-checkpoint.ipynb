{
 "cells": [
  {
   "cell_type": "markdown",
   "metadata": {
    "deletable": true,
    "editable": true
   },
   "source": [
    "# Finite State Machines\n",
    "\n",
    "A finite state machine is easiest thought of as a pattern recognizer. The relevance to compilers is that compilers are often built using a finite state machine to encode the current state and actions as well as transitions to other states.\n",
    "\n",
    "Lets break down the notation when referring to finite state machines. We can call label the input alphabet as Σ. We can call the states, Q. The transition function can be labelled as  δ: Q × Σ → Q. And the start state will be called s ∈ Q. Finally, the set of accepting states cal be labelled as  A ⊆ Q.\n",
    "\n",
    "To illustrate this, we can have a finite-state machine which receives an input string, which we will call w. This input string is part of our input alphabet which we labelled before as Σ. We read each symbol in w one at a time. The machine always has a current state, which is called q. We will always start at the machines start state, s. Each time the machine takes in a symbol from w, the input string, it will transition from its current state q. This can be described as δ(q, a). The machine accepts the input string if there has been successful transitions for each symbol in w, if not it will reject the string. \n",
    "\n",
    "A problem which can arise after constructing a DFA, is the amount of states that we might end up with. The amount of states might very well be more than is necessary. This might lead us to want to minimize the amount of states within the machine. Another reason why we would want to minimize the states in a finite state machine is to minimize the cost, being the time and space. \n",
    "\n",
    "We can use the following easy steps to reduce the amount of states we have in our machine, using the following examples\n",
    "1. Eliminate any unreachable states. In the example we see 3 is an unreachable state, so we can eliminate it.\n",
    "2. If a state is redundant we can eliminate it as well. \n",
    "\n",
    "This means that if two states have identical behaviour we can combine them together. The following makes two states have identical behaviour:\n",
    "1. If a state A transitions to the same states as state B does on the same input, i.\n",
    "2. If both states have the same output as well as transitions. \n",
    "\n",
    "We can look at this with more of an algorithmic approach, giving clear steps of how to minimize our states in the DFA.\n",
    "1. Start with state transition table\n",
    "2. Identify which states have the same output behaviour\n",
    "3. If a state transitions to the same next state, we call them equivalent\n",
    "4. Combine these states into a single new renamed state\n",
    "5. Repeat the process until we can no longer combine states into new states.\n",
    "\n",
    "A state transition table is a table which has the input sequence, the present state of the machine, the next possible states as well as the output.\n",
    "\n"
   ]
  }
 ],
 "metadata": {
  "kernelspec": {
   "display_name": "Python 3",
   "language": "python",
   "name": "python3"
  },
  "language_info": {
   "codemirror_mode": {
    "name": "ipython",
    "version": 3
   },
   "file_extension": ".py",
   "mimetype": "text/x-python",
   "name": "python",
   "nbconvert_exporter": "python",
   "pygments_lexer": "ipython3",
   "version": "3.5.2"
  }
 },
 "nbformat": 4,
 "nbformat_minor": 2
}
