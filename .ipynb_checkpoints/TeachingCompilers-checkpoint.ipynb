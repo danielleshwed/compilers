{
 "cells": [
  {
   "cell_type": "markdown",
   "metadata": {},
   "source": [
    "# Finite State Machines\n",
    "\n",
    "\\par A finite state machine is easiest thought of as a pattern recognizer. The relevance to compilers is that compilers are often built using a finite state machine to encode the current state and actions as well as transitions to other states. The reason why we would want to minimize the states in a finite state machine is to minimize the cost, being the time and space. \n"
   ]
  }
 ],
 "metadata": {
  "kernelspec": {
   "display_name": "Python 3",
   "language": "python",
   "name": "python3"
  },
  "language_info": {
   "codemirror_mode": {
    "name": "ipython",
    "version": 3
   },
   "file_extension": ".py",
   "mimetype": "text/x-python",
   "name": "python",
   "nbconvert_exporter": "python",
   "pygments_lexer": "ipython3",
   "version": "3.5.2"
  }
 },
 "nbformat": 4,
 "nbformat_minor": 2
}
