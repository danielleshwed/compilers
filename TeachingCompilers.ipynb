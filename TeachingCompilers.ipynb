{
 "cells": [
  {
   "cell_type": "markdown",
   "metadata": {},
   "source": [
    "# Finite State Machines\n",
    "\n",
    "A finite state machine is easiest thought of as a pattern recognizer. The relevance to compilers is that compilers are often built using a finite state machine to encode the current state and actions as well as transitions to other states. The reason why we would want to minimize the states in a finite state machine is to minimize the cost, being the time and space. \n",
    "\n",
    "Lets break down the notation when referring to finite state machines. A nfa will start in a state that we will call q0. This means in a dfa we can call our initial state {q0}. We can then read in input which we will call a, which then the nfa can be in state q1 and lets say by making another transition it could be in state q2. This means the corresponding dfa to nfa must have a state {q1,q2} along with a transition. \n",
    "\n"
   ]
  }
 ],
 "metadata": {
  "kernelspec": {
   "display_name": "Python 3",
   "language": "python",
   "name": "python3"
  },
  "language_info": {
   "codemirror_mode": {
    "name": "ipython",
    "version": 3
   },
   "file_extension": ".py",
   "mimetype": "text/x-python",
   "name": "python",
   "nbconvert_exporter": "python",
   "pygments_lexer": "ipython3",
   "version": "3.5.2"
  }
 },
 "nbformat": 4,
 "nbformat_minor": 2
}
