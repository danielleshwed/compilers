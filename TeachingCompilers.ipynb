{
 "cells": [
  {
   "cell_type": "markdown",
   "metadata": {
    "deletable": true,
    "editable": true
   },
   "source": [
    "# Finite State Machines\n",
    "\n",
    "A finite state machine is easiest thought of as a pattern recognizer. The relevance to compilers is that compilers are often built using a finite state machine to encode the current state and actions as well as transitions to other states.\n",
    "\n",
    "Lets break down the notation when referring to finite state machines. We can label the input alphabet as Σ. We can call the states, Q. The transition function can be labelled as  δ: Q × Σ → Q. And the start state will be called s ∈ Q. Finally, the set of accepting states can be labelled as  A ⊆ Q.\n",
    "\n",
    "To illustrate this, we can have a finite-state machine which receives an input string, which we will call w. This input string is part of our input alphabet which we labelled before as Σ. We read each symbol in w one at a time. The machine always has a current state, which is called q. We will always start at the machine's start state, s. Each time the machine takes in a symbol from w, the input string, it will transition from its current state q. This can be described as δ(q, a). The machine accepts the input string if there has been successful transitions for each symbol in w, if not it will reject the string. \n",
    "\n",
    "A problem which can arise after constructing a DFA, is the amount of states that we might end up with. The amount of states might very well be more than is necessary. This might lead us to want to minimize the amount of states within the machine. Another reason why we would want to minimize the states in a finite state machine is to minimize the cost, being the time and space. \n",
    "\n",
    "We can use the following easy steps to reduce the amount of states we have in our machine, using the following examples\n",
    "1. Eliminate any unreachable states. In the example we see 3 is an unreachable state, so we can eliminate it.\n",
    "2. If a state is redundant we can eliminate it as well. \n",
    "\n",
    "This means that if two states have identical behaviour we can combine them together. The following makes two states have identical behaviour:\n",
    "1. If a state A transitions to the same states as state B does on the same input, i.\n",
    "2. If both states have the same output as well as transitions. \n",
    "\n",
    "We can look at this with more of an algorithmic approach, giving clear steps of how to minimize our states in the DFA.\n",
    "1. Start with state transition table\n",
    "2. Identify which states have the same output behaviour\n",
    "3. If a state transitions to the same next state, we call them equivalent\n",
    "4. Combine these states into a single new renamed state\n",
    "5. Repeat the process until we can no longer combine states into new states.\n",
    "\n",
    "A state transition table is a table which has the input sequence, the present state of the machine, the next possible states as well as the output. Using the state transition table as a tool in order to determine equivalent states is called row matching iteration. See the image below as an example of a state transition table.\n",
    "<img src=\"Screen Shot 2017-03-13 at 5.15.28 PM.png\">\n",
    "\n",
    "Unfortunately for this algorithm, it doesn't always yeild the minimal number of states. Luckily for us, there is another more rigerous algorithm we can use. This is called the implication chart method. We will describe this method using an outlined set of steps like the previously mentioned algorithm.\n",
    "1. Mark state pairs which have different outputs as non equivalent. Meaning they cannot be combined. This requires marking each cell in the table with an \"X\" for the pairs of states that have different outputs. This is what we mean by \"mark\". \n",
    "2. For unmarked state pairs, write the next state pairs for the same input value. So if we have a state pair of {q1,q2} and with input of i=1, the next state from q1 is q3 and the next state from q2 is q0, we can write in that cell {q3,q0}. If there are multiple possible inputs we consider those as well and do the same thing.\n",
    "3. For the unmarked state pairs, pairs which do not have the same next state as non equivalent.\n",
    "4. Merge remaining state pairs into one state. \n",
    "\n",
    "We can use a graphical table to visualize possible pairs. The table can be simplified by removing redundant pairs as well as meaningless cells. \n",
    "\n",
    "Another point to mention is that we can have both non deterministic finite state machines, called NFAs, as well as deterministic finite state machines, called DFAs. So how do we go from a NFA to a DFA? We can lay out a set of steps to walk through in order to reach this goal.\n",
    "1. Create a state table with possible inputs. (see figure below)\n",
    "2. Mark the start state.\n",
    "3. Find the possible combination of states on a given input from a given state.\n",
    "4. Add the new state to the state table and repeat step 3.\n",
    "5. Draw DFA with all new combination states. \n",
    "\n",
    "<img src=\"nfa.png\">\n",
    "\n",
    "New state table after completing steps of the above algorithm: \n",
    "\n"
   ]
  }
 ],
 "metadata": {
  "kernelspec": {
   "display_name": "Python 3",
   "language": "python",
   "name": "python3"
  },
  "language_info": {
   "codemirror_mode": {
    "name": "ipython",
    "version": 3
   },
   "file_extension": ".py",
   "mimetype": "text/x-python",
   "name": "python",
   "nbconvert_exporter": "python",
   "pygments_lexer": "ipython3",
   "version": "3.5.2"
  }
 },
 "nbformat": 4,
 "nbformat_minor": 2
}
